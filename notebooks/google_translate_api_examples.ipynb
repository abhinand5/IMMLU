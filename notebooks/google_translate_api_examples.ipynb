{
 "cells": [
  {
   "cell_type": "markdown",
   "metadata": {},
   "source": [
    "### Iinstall dependencies by navigating to the IMMLU folder and typing\n",
    "```pip install -r requirements.txt```"
   ]
  },
  {
   "cell_type": "code",
   "execution_count": null,
   "metadata": {},
   "outputs": [],
   "source": [
    "from datasets import load_dataset\n",
    "import googletrans\n",
    "import os\n",
    "import glob\n",
    "import time\n",
    "from datetime import datetime"
   ]
  },
  {
   "cell_type": "code",
   "execution_count": 42,
   "metadata": {},
   "outputs": [
    {
     "data": {
      "text/html": [
       "<div>\n",
       "<style scoped>\n",
       "    .dataframe tbody tr th:only-of-type {\n",
       "        vertical-align: middle;\n",
       "    }\n",
       "\n",
       "    .dataframe tbody tr th {\n",
       "        vertical-align: top;\n",
       "    }\n",
       "\n",
       "    .dataframe thead th {\n",
       "        text-align: right;\n",
       "    }\n",
       "</style>\n",
       "<table border=\"1\" class=\"dataframe\">\n",
       "  <thead>\n",
       "    <tr style=\"text-align: right;\">\n",
       "      <th></th>\n",
       "      <th>question</th>\n",
       "      <th>subject</th>\n",
       "      <th>choices</th>\n",
       "      <th>answer</th>\n",
       "    </tr>\n",
       "  </thead>\n",
       "  <tbody>\n",
       "    <tr>\n",
       "      <th>0</th>\n",
       "      <td>Davis decided to kill Adams. He set out for Ad...</td>\n",
       "      <td></td>\n",
       "      <td>[Adams only., Brooks only., Case only., Adams ...</td>\n",
       "      <td>1</td>\n",
       "    </tr>\n",
       "    <tr>\n",
       "      <th>1</th>\n",
       "      <td>A state statute requires any person licensed t...</td>\n",
       "      <td></td>\n",
       "      <td>[guilty, because this is a public welfare offe...</td>\n",
       "      <td>3</td>\n",
       "    </tr>\n",
       "    <tr>\n",
       "      <th>2</th>\n",
       "      <td>Lender met Borrower on the street, demanded th...</td>\n",
       "      <td></td>\n",
       "      <td>[Yes, because Mann threatened to use deadly fo...</td>\n",
       "      <td>2</td>\n",
       "    </tr>\n",
       "    <tr>\n",
       "      <th>3</th>\n",
       "      <td>Peter sued Don for breach of contract. The cou...</td>\n",
       "      <td></td>\n",
       "      <td>[must permit Don to answer if he had objected ...</td>\n",
       "      <td>1</td>\n",
       "    </tr>\n",
       "    <tr>\n",
       "      <th>4</th>\n",
       "      <td>Ames had painted Bell's house under a contract...</td>\n",
       "      <td></td>\n",
       "      <td>[partial breach of contract only if Ames had p...</td>\n",
       "      <td>2</td>\n",
       "    </tr>\n",
       "  </tbody>\n",
       "</table>\n",
       "</div>"
      ],
      "text/plain": [
       "                                            question subject  \\\n",
       "0  Davis decided to kill Adams. He set out for Ad...           \n",
       "1  A state statute requires any person licensed t...           \n",
       "2  Lender met Borrower on the street, demanded th...           \n",
       "3  Peter sued Don for breach of contract. The cou...           \n",
       "4  Ames had painted Bell's house under a contract...           \n",
       "\n",
       "                                             choices  answer  \n",
       "0  [Adams only., Brooks only., Case only., Adams ...       1  \n",
       "1  [guilty, because this is a public welfare offe...       3  \n",
       "2  [Yes, because Mann threatened to use deadly fo...       2  \n",
       "3  [must permit Don to answer if he had objected ...       1  \n",
       "4  [partial breach of contract only if Ames had p...       2  "
      ]
     },
     "execution_count": 42,
     "metadata": {},
     "output_type": "execute_result"
    }
   ],
   "source": [
    "#https://huggingface.co/datasets/lighteval/mmlu\n",
    "dataset = load_dataset('lighteval/mmlu', 'all', split = 'auxiliary_train')\n",
    "df_mmlu = dataset.to_pandas()\n",
    "df_mmlu.head(5)"
   ]
  },
  {
   "cell_type": "code",
   "execution_count": null,
   "metadata": {},
   "outputs": [],
   "source": [
    "os.chdir(\"../data\") #Navigate to the data folder\n",
    "for i in range(51, 61):\n",
    "    sample_df = df_mmlu[100*(i-1):100*i]\n",
    "    translated_df = sample_df.copy()\n",
    "    translator = googletrans.Translator()\n",
    "    for index, row in sample_df.iterrows():\n",
    "        translated_df.loc[index, 'question'] = translator.translate(row['question'], dest='ta').text\n",
    "        translated_df.loc[index, 'choices'] = translator.translate(row['choices'], dest='ta').text\n",
    "    translated_df.to_csv(f'translated_mmlu_{(i-1)*100+1}_{i * 100}.csv', index=False)"
   ]
  },
  {
   "cell_type": "code",
   "execution_count": 63,
   "metadata": {},
   "outputs": [],
   "source": [
    "#Compressing all CSV files\n",
    "import tarfile\n",
    "os.chdir(\"../data\") #Navigate to the data folder\n",
    "t_stamp = f'{datetime.now():%Y-%m-%d %H:%M:%S}'\n",
    "tar = tarfile.open(f\"translated_mmlu_{t_stamp}.tar.gz\", \"w:gz\")\n",
    "tar.add(os.getcwd(), arcname = f\"translated_mmlu_{t_stamp}\")\n",
    "tar.close()"
   ]
  },
  {
   "cell_type": "code",
   "execution_count": 68,
   "metadata": {},
   "outputs": [],
   "source": [
    "#Delete all CSV files except the compressed file\n",
    "\n",
    "file_path = f'{os.getcwd()}/translated_mmlu_{t_stamp}.tar.gz'\n",
    "while not os.path.exists(file_path):\n",
    "    time.sleep(10)\n",
    "\n",
    "if os.path.isfile(file_path):\n",
    "    # Verifies CSV file was created, then deletes unneeded files.\n",
    "    for clean_up in glob.glob(f'{os.getcwd()}/*.csv'):\n",
    "        print(clean_up)\n",
    "        if not clean_up.endswith('tar.gz'):    \n",
    "            os.remove(clean_up)"
   ]
  }
 ],
 "metadata": {
  "kernelspec": {
   "display_name": "base",
   "language": "python",
   "name": "python3"
  },
  "language_info": {
   "codemirror_mode": {
    "name": "ipython",
    "version": 3
   },
   "file_extension": ".py",
   "mimetype": "text/x-python",
   "name": "python",
   "nbconvert_exporter": "python",
   "pygments_lexer": "ipython3",
   "version": "3.11.5"
  }
 },
 "nbformat": 4,
 "nbformat_minor": 2
}
